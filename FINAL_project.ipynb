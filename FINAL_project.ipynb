{
 "cells": [
  {
   "cell_type": "markdown",
   "metadata": {},
   "source": [
    "# Final project\n",
    "\n",
    "**Can you escape a velociraptor?**\n",
    "\n",
    "Your goal is to figure out whether or not a velociraptor will catch you or if you can outrun it!\n",
    "\n",
    "## Problem 1. Position vs. time\n",
    "\n",
    "Suppose a velociraptor can run 18 m/s. And suppose you can run at 3 m/s, but you have a 30 meter head start. Assume that you and the 'raptor accelerate so quickly that you can ignore acceleration. \n",
    "\n",
    "Make a plot of the position vs. time for both you and the 'raptor (plot both on the same figure). Clearly label all axes and give the plot a legend. Plot over a suitable time frame. Save the figure as a .png file. \n",
    "\n",
    "*This plot will be included in your write-up*."
   ]
  },
  {
   "cell_type": "code",
   "execution_count": 111,
   "metadata": {
    "collapsed": false
   },
   "outputs": [
    {
     "data": {
      "text/plain": [
       "<matplotlib.legend.Legend at 0xa7bb32e8>"
      ]
     },
     "execution_count": 111,
     "metadata": {},
     "output_type": "execute_result"
    },
    {
     "data": {
      "image/png": "[encoded data removed]",
      "text/plain": [
       "<matplotlib.figure.Figure at 0x54f099e8>"
      ]
     },
     "metadata": {},
     "output_type": "display_data"
    }
   ],
   "source": [
    "import numpy as np\n",
    "\n",
    "t = np.linspace(0,3,1000) # Time (sec)\n",
    "\n",
    "x = [] # People position\n",
    "v = [] # Velociraptor position\n",
    "\n",
    "for i in t:\n",
    "    z = 3 * i + 30 # Equation for the human position\n",
    "    y = 18 * i\n",
    "    x.append(z) # Add this value to our empty array\n",
    "    v.append(y)\n",
    "\n",
    "import matplotlib.pylab as plt\n",
    "%matplotlib inline\n",
    "\n",
    "plt.plot(t,x,'r',label=\"You\",markersize=20)\n",
    "plt.plot(t,v,'g',label =\"Velociraptor\",markersize=20)\n",
    "\n",
    "plt.xlabel('Time (s)',fontsize = 12)\n",
    "plt.ylabel('Position(m)',fontsize = 12)\n",
    "\n",
    "plt.title('Velociraptor and Human Position Over Time')\n",
    "\n",
    "plt.legend(loc = \"upper left\")"
   ]
  },
  {
   "cell_type": "markdown",
   "metadata": {},
   "source": [
    "## Problem 2. When does the 'raptor catch up to you?\n",
    "\n",
    "Use your code to figure out when the raptor catches up to you. Both how much time has passed and how far *you* have run.  \n",
    "\n",
    "Do not just get this information off the graph. Use your Python code to figure this out! Getting the information just by looking at the plot will result in a 0 for this question. You can use an analytic approach (algebra) to check your answer, but that is not the approach I want you to use. Depending on how you write your code, you might not get an *exact* answer, but you should find a way to get pretty close to the algebraic solution. "
   ]
  },
  {
   "cell_type": "code",
   "execution_count": 112,
   "metadata": {
    "collapsed": false
   },
   "outputs": [
    {
     "name": "stdout",
     "output_type": "stream",
     "text": [
      "The velociraptor catches up to you at 36.000000 meters in 2.000000 seconds.\n"
     ]
    }
   ],
   "source": [
    "for i in range(0,len(t)):\n",
    "    if x[i] == v[i]: # When they are at the same position\n",
    "        print \"The velociraptor catches up to you at %f meters in %f seconds.\" %(x[i],t[i])\n",
    "        break # No need to run the loop anymore because we got an answer"
   ]
  },
  {
   "cell_type": "markdown",
   "metadata": {},
   "source": [
    "## Problem 3. When is it close enough to strike?\n",
    "\n",
    "It turns out the 'raptor will start trying to attack when it is 1 meter away. How much time has passed and how far have you run when it is 1 meter behind you? Use a similar approach as the last problem. \n",
    "\n",
    "***Also make a new copy of the above plot, but label (with a line or arrow or whatever you want) the point at which the raptor is 1 meter behind you.***"
   ]
  },
  {
   "cell_type": "code",
   "execution_count": 113,
   "metadata": {
    "collapsed": false
   },
   "outputs": [
    {
     "name": "stdout",
     "output_type": "stream",
     "text": [
      "The velociraptor is one meter behind you when you are at 35.801802 meters, which is after 1.933934 seconds.\n"
     ]
    },
    {
     "data": {
      "text/plain": [
       "<matplotlib.patches.FancyArrow at 0xa77a8390>"
      ]
     },
     "execution_count": 113,
     "metadata": {},
     "output_type": "execute_result"
    },
    {
     "data": {
      "image/png": "[encoded data removed]",
      "text/plain": [
       "<matplotlib.figure.Figure at 0xa8f90c18>"
      ]
     },
     "metadata": {},
     "output_type": "display_data"
    }
   ],
   "source": [
    "\n",
    "for i in range(0,len(t)):\n",
    "    if x[i]-v[i]<1:\n",
    "        h = v[i]/18.0\n",
    "        print \"The velociraptor is one meter behind you when you are at %f meters, which is after %f seconds.\" %(x[i],h) \n",
    "        break\n",
    "   \n",
    "import matplotlib.pylab as plt\n",
    "%matplotlib inline\n",
    "    \n",
    "plt.plot(t,x,'r',label=\"You\",markersize=20)\n",
    "plt.plot(t,v,'g',label =\"Velociraptor\",markersize=20)\n",
    "\n",
    "plt.xlabel('Time (s)',fontsize = 12)\n",
    "plt.ylabel('Position(m)',fontsize = 12)\n",
    "\n",
    "plt.title(\"Velociraptor and Your Positions Over Time\")\n",
    "\n",
    "plt.legend(loc = \"upper left\")\n",
    "\n",
    "plt.arrow(1.94,21,0.0,10,head_width=.1,head_length=3) # x,y,head_width,head_length # played around to get numbers"
   ]
  },
  {
   "cell_type": "markdown",
   "metadata": {},
   "source": [
    "## Problem 4. Will it bite you?\n",
    "\n",
    "When the 'raptor is 1 meter away, it will try to bite you. If it doesn't bite you, it will try a second and (if necessary) a third time. If it doesn't get you on the third try, it will grow frustrated and stop chasing you. Hurray!\n",
    "\n",
    "Suppose the first time it tries, there is a 20% chance it will bite you. If it misses and it needs to try a second time, there is only a 15% chance, and if it misses *that* time, there is only a 7% chance on the third try. \n",
    "\n",
    "If it bites you once, you're 'raptor food. If it misses all three times, you get away!\n",
    "\n",
    "What is the probability that you will get away?\n"
   ]
  },
  {
   "cell_type": "code",
   "execution_count": 114,
   "metadata": {
    "collapsed": false
   },
   "outputs": [
    {
     "name": "stdout",
     "output_type": "stream",
     "text": [
      "You have a 61.119000 percent chance of survival.\n"
     ]
    }
   ],
   "source": [
    "# Fred helped me\n",
    "\n",
    "def death():\n",
    "    first = np.random.randint(100) # Make random integers for all the points\n",
    "    second = np.random.randint(100)\n",
    "    third = np.random.randint(100)\n",
    "\n",
    "    if first <= 20: # 20% chance of being bit\n",
    "        return \"Got ya!\"\n",
    "    if second <= 15: # 15% chance of being bit\n",
    "        return \"Dinner time!\"\n",
    "    if third <= 7:\n",
    "        return \"Finally!\" # 7% chance of being bit \n",
    "    else:\n",
    "        return \"Gosh darn it!\"\n",
    "    \n",
    "escape = 0\n",
    "\n",
    "n = 100000 # How many time you want it to run\n",
    "\n",
    "for i in range(0,n): # Run it this many times\n",
    "    oh_no = death() # Set the function equal to a variable       \n",
    "    if oh_no == \"Gosh darn it!\": # Successes\n",
    "        escape += 1\n",
    "    \n",
    "chances = (escape/float(n)) * 100 # Percent of survival\n",
    "\n",
    "print \"You have a %f percent chance of survival.\" %(chances)"
   ]
  },
  {
   "cell_type": "code",
   "execution_count": null,
   "metadata": {
    "collapsed": true
   },
   "outputs": [],
   "source": []
  },
  {
   "cell_type": "code",
   "execution_count": null,
   "metadata": {
    "collapsed": true
   },
   "outputs": [],
   "source": []
  }
 ],
 "metadata": {
  "kernelspec": {
   "display_name": "Python 2",
   "language": "python",
   "name": "python2"
  },
  "language_info": {
   "codemirror_mode": {
    "name": "ipython",
    "version": 2
   },
   "file_extension": ".py",
   "mimetype": "text/x-python",
   "name": "python",
   "nbconvert_exporter": "python",
   "pygments_lexer": "ipython2",
   "version": "2.7.10"
  }
 },
 "nbformat": 4,
 "nbformat_minor": 0
}
